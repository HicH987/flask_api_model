{
  "cells": [
    {
      "cell_type": "markdown",
      "metadata": {
        "colab_type": "text",
        "id": "view-in-github"
      },
      "source": [
        "<a href=\"https://colab.research.google.com/github/HicH987/face_id_flask_api/blob/master/_deployment_colab.ipynb\" target=\"_parent\"><img src=\"https://colab.research.google.com/assets/colab-badge.svg\" alt=\"Open In Colab\"/></a>"
      ]
    },
    {
      "attachments": {},
      "cell_type": "markdown",
      "metadata": {},
      "source": [
        "### 1. Clone API repo + Install requirements + Install pyngrok"
      ]
    },
    {
      "cell_type": "code",
      "execution_count": null,
      "metadata": {
        "colab": {
          "base_uri": "https://localhost:8080/"
        },
        "id": "akY2kKO3NIlp",
        "outputId": "bd266da0-3eef-4b9d-98d2-59f0eab4fcce"
      },
      "outputs": [],
      "source": [
        "!git clone https://github.com/HicH987/model_flask_api.git\n",
        "!pip install -r model_flask_api/requirements.txt\n",
        "!pip install pyngrok"
      ]
    },
    {
      "attachments": {},
      "cell_type": "markdown",
      "metadata": {},
      "source": [
        "### 2. Setup the access link"
      ]
    },
    {
      "cell_type": "code",
      "execution_count": null,
      "metadata": {
        "colab": {
          "base_uri": "https://localhost:8080/"
        },
        "id": "Xq1Uc1KrNTo-",
        "outputId": "6655440c-cdb4-4589-f3e6-690d309e9fe7"
      },
      "outputs": [],
      "source": [
        "from pyngrok import ngrok\n",
        "\n",
        "port_no = 5000\n",
        "ngrok.set_auth_token(\"29GHpe6nOniuXaZerF9EbStIHMh_29KL1coC6tVs5tw4dAMLn\")\n",
        "public_url =  ngrok.connect(port_no).public_url\n",
        "\n",
        "print(f'\\n- [PORT]: {port_no}')\n",
        "print(f'- [ACCESS LINK]: {public_url}')"
      ]
    },
    {
      "attachments": {},
      "cell_type": "markdown",
      "metadata": {},
      "source": [
        "### 3. Run the API"
      ]
    },
    {
      "cell_type": "code",
      "execution_count": null,
      "metadata": {
        "colab": {
          "base_uri": "https://localhost:8080/"
        },
        "id": "roRgvMiCNZA6",
        "outputId": "380219d3-ba88-480b-db24-f30203b3b510"
      },
      "outputs": [],
      "source": [
        "!cd ./model_flask_api/ && python app.py --url {public_url} --port {port_no}"
      ]
    }
  ],
  "metadata": {
    "accelerator": "GPU",
    "colab": {
      "include_colab_link": true,
      "provenance": []
    },
    "kernelspec": {
      "display_name": "Python 3",
      "language": "python",
      "name": "python3"
    },
    "language_info": {
      "name": "python",
      "version": "3.10.7"
    },
    "vscode": {
      "interpreter": {
        "hash": "3196968d684371006099b3d55edeef8ed90365227a30deaef86e5d4aa8519be0"
      }
    }
  },
  "nbformat": 4,
  "nbformat_minor": 0
}
