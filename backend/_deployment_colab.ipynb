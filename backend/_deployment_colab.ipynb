{
  "cells": [
    {
      "cell_type": "markdown",
      "metadata": {
        "id": "view-in-github",
        "colab_type": "text"
      },
      "source": [
        "<a href=\"https://colab.research.google.com/github/HicH987/model_flask_api/blob/master/_deployment_colab.ipynb\" target=\"_parent\"><img src=\"https://colab.research.google.com/assets/colab-badge.svg\" alt=\"Open In Colab\"/></a>"
      ]
    },
    {
      "cell_type": "markdown",
      "metadata": {
        "id": "JOeC3-TRhHsE"
      },
      "source": [
        "### 1. Clone API repo + Install requirements + Install pyngrok"
      ]
    },
    {
      "cell_type": "code",
      "execution_count": null,
      "metadata": {
        "id": "akY2kKO3NIlp"
      },
      "outputs": [],
      "source": [
        "!git clone https://github.com/HicH987/model_flask_api.git\n",
        "!pip install -r model_flask_api/requirements.txt\n",
        "!pip install pyngrok"
      ]
    },
    {
      "cell_type": "markdown",
      "metadata": {
        "id": "VdUuEozLhHsH"
      },
      "source": [
        "### 2. Setup the access link"
      ]
    },
    {
      "cell_type": "code",
      "execution_count": null,
      "metadata": {
        "id": "Xq1Uc1KrNTo-"
      },
      "outputs": [],
      "source": [
        "from pyngrok import ngrok\n",
        "\n",
        "port_no = 5000\n",
        "ngrok.set_auth_token(\"29GHpe6nOniuXaZerF9EbStIHMh_29KL1coC6tVs5tw4dAMLn\")\n",
        "public_url =  ngrok.connect(port_no).public_url\n",
        "\n",
        "print(f'\\n- [PORT]: {port_no}')\n",
        "print(f'- [ACCESS LINK]: {public_url}')"
      ]
    },
    {
      "cell_type": "markdown",
      "metadata": {
        "id": "8XxVvpLThHsI"
      },
      "source": [
        "### 3. Run the API"
      ]
    },
    {
      "cell_type": "code",
      "execution_count": null,
      "metadata": {
        "id": "roRgvMiCNZA6"
      },
      "outputs": [],
      "source": [
        "!cd ./model_flask_api/ && python app.py --url {public_url} --port {port_no}"
      ]
    }
  ],
  "metadata": {
    "accelerator": "GPU",
    "colab": {
      "provenance": [],
      "include_colab_link": true
    },
    "kernelspec": {
      "display_name": "Python 3",
      "language": "python",
      "name": "python3"
    },
    "language_info": {
      "name": "python",
      "version": "3.10.7"
    },
    "vscode": {
      "interpreter": {
        "hash": "3196968d684371006099b3d55edeef8ed90365227a30deaef86e5d4aa8519be0"
      }
    }
  },
  "nbformat": 4,
  "nbformat_minor": 0
}